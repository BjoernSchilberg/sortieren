{
 "cells": [
  {
   "cell_type": "markdown",
   "id": "7385b210-fd2f-4502-a4d9-dd083720cde2",
   "metadata": {},
   "source": [
    "# Sortierverfahren"
   ]
  },
  {
   "cell_type": "markdown",
   "id": "b5483f77-6974-4db8-91d1-cd93dccb327c",
   "metadata": {},
   "source": [
    "## Bubblesort (Sortieren durch Aufsteigen)"
   ]
  },
  {
   "cell_type": "code",
   "execution_count": 5,
   "id": "120efca8-195b-4279-9bea-2f497e72af12",
   "metadata": {},
   "outputs": [],
   "source": [
    "def BubbleSort(arr):\n",
    "    v = 0   #Anzahl Vergleiche\n",
    "    s = 0   #Anzahl swaps\n",
    "    for i in range(len(arr)-1,0,-1):\n",
    "        for j in range(0,i):\n",
    "            v = v + 1\n",
    "            if arr[j] > arr[j+1]:\n",
    "                #Tauschen\n",
    "                arr[j], arr[j+1] = arr[j+1], arr[j]\n",
    "                s = s + 1\n",
    "                print(arr, \";\" , v ,\";\", arr[j+1], \">\", arr[j], \";\", s)\n",
    "            else:\n",
    "                print(arr, \";\" , v ,\";\", arr[j], \">\", arr[j+1], \";\", s)"
   ]
  },
  {
   "cell_type": "code",
   "execution_count": 6,
   "id": "d2ed7382-1212-42bf-9cd9-5f9c2a5dba85",
   "metadata": {},
   "outputs": [],
   "source": [
    "array = [4,2,1,6,3,5]"
   ]
  },
  {
   "cell_type": "code",
   "execution_count": 7,
   "id": "6bca9493-57e8-4736-a81e-d117151a8079",
   "metadata": {},
   "outputs": [
    {
     "name": "stdout",
     "output_type": "stream",
     "text": [
      "[2, 4, 1, 6, 3, 5] ; 1 ; 4 > 2 ; 1\n",
      "[2, 1, 4, 6, 3, 5] ; 2 ; 4 > 1 ; 2\n",
      "[2, 1, 4, 6, 3, 5] ; 3 ; 4 > 6 ; 2\n",
      "[2, 1, 4, 3, 6, 5] ; 4 ; 6 > 3 ; 3\n",
      "[2, 1, 4, 3, 5, 6] ; 5 ; 6 > 5 ; 4\n",
      "[1, 2, 4, 3, 5, 6] ; 6 ; 2 > 1 ; 5\n",
      "[1, 2, 4, 3, 5, 6] ; 7 ; 2 > 4 ; 5\n",
      "[1, 2, 3, 4, 5, 6] ; 8 ; 4 > 3 ; 6\n",
      "[1, 2, 3, 4, 5, 6] ; 9 ; 4 > 5 ; 6\n",
      "[1, 2, 3, 4, 5, 6] ; 10 ; 1 > 2 ; 6\n",
      "[1, 2, 3, 4, 5, 6] ; 11 ; 2 > 3 ; 6\n",
      "[1, 2, 3, 4, 5, 6] ; 12 ; 3 > 4 ; 6\n",
      "[1, 2, 3, 4, 5, 6] ; 13 ; 1 > 2 ; 6\n",
      "[1, 2, 3, 4, 5, 6] ; 14 ; 2 > 3 ; 6\n",
      "[1, 2, 3, 4, 5, 6] ; 15 ; 1 > 2 ; 6\n"
     ]
    }
   ],
   "source": [
    "BubbleSort(array)"
   ]
  },
  {
   "cell_type": "markdown",
   "id": "7bb85260-24ce-49cd-8ed2-e70bffe49d9c",
   "metadata": {},
   "source": [
    "### Bubblesort Variante: Kleinstes Element ans Ende"
   ]
  },
  {
   "cell_type": "code",
   "execution_count": 8,
   "id": "e5816ddf-cc30-48b4-a048-38f267327ae3",
   "metadata": {},
   "outputs": [],
   "source": [
    "def BubbleSort(arr):\n",
    "    v = 0   #Anzahl Vergleiche\n",
    "    s = 0   #Anzahl swaps\n",
    "    for i in range(len(arr)-1,0,-1):\n",
    "        for j in range(0,i):\n",
    "            v = v + 1\n",
    "            if arr[j] < arr[j+1]:\n",
    "                #Tauschen\n",
    "                arr[j], arr[j+1] = arr[j+1], arr[j]\n",
    "                s = s + 1\n",
    "                print(arr, \";\" , v ,\";\", arr[j+1], \"<\", arr[j], \";\", s)\n",
    "            else:\n",
    "                print(arr, \";\" , v ,\";\", arr[j], \"<\", arr[j+1], \";\", s)"
   ]
  },
  {
   "cell_type": "code",
   "execution_count": 9,
   "id": "f8990f6f-b357-498d-ac9b-bdefcaec6aa3",
   "metadata": {},
   "outputs": [],
   "source": [
    "array = [6,4,9,2]"
   ]
  },
  {
   "cell_type": "code",
   "execution_count": 10,
   "id": "e164dd3d-0e4f-445d-96ad-c9a6cab58221",
   "metadata": {},
   "outputs": [
    {
     "name": "stdout",
     "output_type": "stream",
     "text": [
      "[6, 4, 9, 2] ; 1 ; 6 < 4 ; 0\n",
      "[6, 9, 4, 2] ; 2 ; 4 < 9 ; 1\n",
      "[6, 9, 4, 2] ; 3 ; 4 < 2 ; 1\n",
      "[9, 6, 4, 2] ; 4 ; 6 < 9 ; 2\n",
      "[9, 6, 4, 2] ; 5 ; 6 < 4 ; 2\n",
      "[9, 6, 4, 2] ; 6 ; 9 < 6 ; 2\n"
     ]
    }
   ],
   "source": [
    "BubbleSort(array)"
   ]
  },
  {
   "cell_type": "markdown",
   "id": "45279044-352f-4e4c-bc26-d6764e8009a4",
   "metadata": {},
   "source": [
    "## Selectionsort (Sortieren durch Auswahl)"
   ]
  },
  {
   "cell_type": "code",
   "execution_count": 11,
   "id": "a2ee6b2d-8bcb-42d4-b08a-f4dd2ba44875",
   "metadata": {},
   "outputs": [],
   "source": [
    "def SelectionSort (array):\n",
    "    v = 0   #Anzahl Vergleiche\n",
    "    s = 0   #Anzahl swaps\n",
    "    durchgang = 0\n",
    "    for durchgang in range(len(array) - 1):\n",
    "        index = durchgang + 1\n",
    "        for i in range(durchgang + 1, len(array)):\n",
    "            v = v + 1\n",
    "            if array[i] < array[durchgang]:\n",
    "                #Tauschen\n",
    "                array[i],array[durchgang]=array[durchgang],array[i]\n",
    "                #zwischenspeicher = array[i]\n",
    "                #array[i] = array[durchgang]\n",
    "                #array[durchgang] = zwischenspeicher\n",
    "                s = s + 1\n",
    "                print(array, \";\" , v ,\";\", array[durchgang], \"<\", array[i], \";\", s)\n",
    "            else:\n",
    "                print(array, \";\" , v ,\";\", array[i], \"<\", array[durchgang], \";\", s)\n",
    "        # Durchgang hochzählen\n",
    "        durchgang += 1"
   ]
  },
  {
   "cell_type": "code",
   "execution_count": 12,
   "id": "635eea06-dfe0-4b92-bb0b-2a7de0e523bb",
   "metadata": {},
   "outputs": [],
   "source": [
    "array = [6,4,9,2]"
   ]
  },
  {
   "cell_type": "code",
   "execution_count": 13,
   "id": "9f435986-ed84-4a2b-8b4b-600ec6e38506",
   "metadata": {},
   "outputs": [
    {
     "name": "stdout",
     "output_type": "stream",
     "text": [
      "[4, 6, 9, 2] ; 1 ; 4 < 6 ; 1\n",
      "[4, 6, 9, 2] ; 2 ; 9 < 4 ; 1\n",
      "[2, 6, 9, 4] ; 3 ; 2 < 4 ; 2\n",
      "[2, 6, 9, 4] ; 4 ; 9 < 6 ; 2\n",
      "[2, 4, 9, 6] ; 5 ; 4 < 6 ; 3\n",
      "[2, 4, 6, 9] ; 6 ; 6 < 9 ; 4\n"
     ]
    }
   ],
   "source": [
    "SelectionSort(array)"
   ]
  },
  {
   "cell_type": "code",
   "execution_count": 14,
   "id": "965cdbb8-e66e-445f-bf12-3309848b2e25",
   "metadata": {},
   "outputs": [],
   "source": [
    "array = [6,2,5,3,4]"
   ]
  },
  {
   "cell_type": "code",
   "execution_count": 15,
   "id": "2a6e038e-f152-4dff-b595-bc59d3698218",
   "metadata": {},
   "outputs": [
    {
     "name": "stdout",
     "output_type": "stream",
     "text": [
      "[2, 6, 5, 3, 4] ; 1 ; 2 < 6 ; 1\n",
      "[2, 6, 5, 3, 4] ; 2 ; 5 < 2 ; 1\n",
      "[2, 6, 5, 3, 4] ; 3 ; 3 < 2 ; 1\n",
      "[2, 6, 5, 3, 4] ; 4 ; 4 < 2 ; 1\n",
      "[2, 5, 6, 3, 4] ; 5 ; 5 < 6 ; 2\n",
      "[2, 3, 6, 5, 4] ; 6 ; 3 < 5 ; 3\n",
      "[2, 3, 6, 5, 4] ; 7 ; 4 < 3 ; 3\n",
      "[2, 3, 5, 6, 4] ; 8 ; 5 < 6 ; 4\n",
      "[2, 3, 4, 6, 5] ; 9 ; 4 < 5 ; 5\n",
      "[2, 3, 4, 5, 6] ; 10 ; 5 < 6 ; 6\n"
     ]
    }
   ],
   "source": [
    "SelectionSort(array)"
   ]
  },
  {
   "cell_type": "markdown",
   "id": "1d4bd759-7450-4da0-bb39-0a9848d7a407",
   "metadata": {},
   "source": [
    "## Insertionsort (Sortieren durch Einfügen)"
   ]
  },
  {
   "cell_type": "markdown",
   "id": "11e2680c-3fb0-419e-b005-078fe7acae7b",
   "metadata": {},
   "source": [
    "Interaktives Beispiel auf [abbozza! Sketches](https://abbozza.informatik.uni-osnabrueck.de/abbozza/web/systems/worlds/subsystems/array/?https://abbozza.informatik.uni-osnabrueck.de/downloads/abbozza/sketches/worlds/array/insertionsort.abz)"
   ]
  },
  {
   "cell_type": "code",
   "execution_count": 27,
   "id": "42de75d4-a744-42d6-be35-941ce30eb0a0",
   "metadata": {},
   "outputs": [],
   "source": [
    "def InsertionSort(arr):\n",
    "    v = 0   #Anzahl Vergleiche\n",
    "    s = 0   #Anzahl swaps\n",
    "    for i in range(1,len(arr)):\n",
    "        for j in range(i,0,-1):\n",
    "            v = v + 1\n",
    "            if arr[j] < arr[j-1]:\n",
    "                arr[j],arr[j-1] = arr[j-1],arr[j]\n",
    "                s = s + 1\n",
    "                print(arr,\";\", v, \";\", arr[j-1], \"<\" ,arr[j], \";\", s)\n",
    "            else:\n",
    "                print(arr,\";\", v, \";\", arr[j], \"<\" ,arr[j-1], \";\", s)\n",
    "                break\n",
    "                \n",
    "            \n"
   ]
  },
  {
   "cell_type": "code",
   "execution_count": 28,
   "id": "72bcc7d2-1312-4170-a588-a0f99a63c014",
   "metadata": {},
   "outputs": [],
   "source": [
    "array = [6,2,5,3,4]"
   ]
  },
  {
   "cell_type": "code",
   "execution_count": 29,
   "id": "5868dc8d-3b84-4e94-ad00-0700f9813400",
   "metadata": {},
   "outputs": [
    {
     "name": "stdout",
     "output_type": "stream",
     "text": [
      "[2, 6, 5, 3, 4] ; 1 ; 2 < 6 ; 1\n",
      "[2, 5, 6, 3, 4] ; 2 ; 5 < 6 ; 2\n",
      "[2, 5, 6, 3, 4] ; 3 ; 5 < 2 ; 2\n",
      "[2, 5, 3, 6, 4] ; 4 ; 3 < 6 ; 3\n",
      "[2, 3, 5, 6, 4] ; 5 ; 3 < 5 ; 4\n",
      "[2, 3, 5, 6, 4] ; 6 ; 3 < 2 ; 4\n",
      "[2, 3, 5, 4, 6] ; 7 ; 4 < 6 ; 5\n",
      "[2, 3, 4, 5, 6] ; 8 ; 4 < 5 ; 6\n",
      "[2, 3, 4, 5, 6] ; 9 ; 4 < 3 ; 6\n"
     ]
    }
   ],
   "source": [
    "InsertionSort(array)"
   ]
  },
  {
   "cell_type": "code",
   "execution_count": null,
   "id": "00d635e2-35ae-4d10-ab9a-c5b5ee443e1d",
   "metadata": {},
   "outputs": [],
   "source": []
  }
 ],
 "metadata": {
  "kernelspec": {
   "display_name": "Python 3 (ipykernel)",
   "language": "python",
   "name": "python3"
  },
  "language_info": {
   "codemirror_mode": {
    "name": "ipython",
    "version": 3
   },
   "file_extension": ".py",
   "mimetype": "text/x-python",
   "name": "python",
   "nbconvert_exporter": "python",
   "pygments_lexer": "ipython3",
   "version": "3.10.10"
  }
 },
 "nbformat": 4,
 "nbformat_minor": 5
}
